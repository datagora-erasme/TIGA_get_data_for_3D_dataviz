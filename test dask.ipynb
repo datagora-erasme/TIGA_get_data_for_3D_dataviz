{
 "cells": [
  {
   "cell_type": "code",
   "execution_count": 13,
   "id": "96e08199",
   "metadata": {},
   "outputs": [
    {
     "name": "stdout",
     "output_type": "stream",
     "text": [
      "          siren           siret trancheEffectifsEtablissement  \\\n",
      "925   005720651  00572065100040                          <NA>   \n",
      "3739  006350037  00635003700047                            NN   \n",
      "4709  006580195  00658019500052                          <NA>   \n",
      "6085  006970859  00697085900044                            NN   \n",
      "6697  007080773  00708077300208                            02   \n",
      "\n",
      "     activitePrincipaleEtablissement codeCommuneEtablissement  \n",
      "925                           68.20B                    69382  \n",
      "3739                          22.23Z                    69387  \n",
      "4709                           51.8M                    69290  \n",
      "6085                           52.5Z                    69386  \n",
      "6697                          46.73A                    69091  \n",
      "temps écoulé :  1836.9361834526062 s\n"
     ]
    }
   ],
   "source": [
    "import time\n",
    "from dask import dataframe as dd\n",
    "\n",
    "file_path = \"data/StockEtablissement_utf8.csv\"\n",
    "\n",
    "t0 = time.time()\n",
    "df = dd.read_csv(file_path, dtype='string')\n",
    "col_interest = [\n",
    "    'siren',\n",
    "    'siret',\n",
    "    'trancheEffectifsEtablissement',\n",
    "    'activitePrincipaleEtablissement',\n",
    "    'codeCommuneEtablissement'\n",
    "]\n",
    "df = df[col_interest]\n",
    "\n",
    "temp_df = df[df['codeCommuneEtablissement'].str[:2] == '69']\n",
    "df = dd.concat([temp_df, df[df['codeCommuneEtablissement'].str[:2] == '42']])\n",
    "\n",
    "\n",
    "df.to_csv('test.csv')\n",
    "\n",
    "print(df.head())\n",
    "t1 = time.time()\n",
    "print(\"temps écoulé : \", t1-t0, 's')"
   ]
  }
 ],
 "metadata": {
  "kernelspec": {
   "display_name": "Python 3 (ipykernel)",
   "language": "python",
   "name": "python3"
  },
  "language_info": {
   "codemirror_mode": {
    "name": "ipython",
    "version": 3
   },
   "file_extension": ".py",
   "mimetype": "text/x-python",
   "name": "python",
   "nbconvert_exporter": "python",
   "pygments_lexer": "ipython3",
   "version": "3.9.7"
  }
 },
 "nbformat": 4,
 "nbformat_minor": 5
}
